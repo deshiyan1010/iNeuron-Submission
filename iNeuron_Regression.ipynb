{
  "nbformat": 4,
  "nbformat_minor": 0,
  "metadata": {
    "colab": {
      "name": "iNeuron Regression.ipynb",
      "provenance": []
    },
    "kernelspec": {
      "name": "python3",
      "display_name": "Python 3"
    }
  },
  "cells": [
    {
      "cell_type": "code",
      "metadata": {
        "id": "hIrFPf0xAdco",
        "colab_type": "code",
        "colab": {}
      },
      "source": [
        "import pandas as pd\n",
        "import matplotlib.pyplot as plt\n",
        "import tensorflow as tf\n",
        "from sklearn.model_selection import train_test_split\n",
        "import numpy as np"
      ],
      "execution_count": 199,
      "outputs": []
    },
    {
      "cell_type": "code",
      "metadata": {
        "id": "sayrRYKiIN2F",
        "colab_type": "code",
        "colab": {
          "base_uri": "https://localhost:8080/",
          "height": 197
        },
        "outputId": "b294900a-240f-4cf6-aad1-c80f92e4c2b4"
      },
      "source": [
        "csv = pd.read_csv(\"forestfires.csv\")\n",
        "csv.head()"
      ],
      "execution_count": 200,
      "outputs": [
        {
          "output_type": "execute_result",
          "data": {
            "text/html": [
              "<div>\n",
              "<style scoped>\n",
              "    .dataframe tbody tr th:only-of-type {\n",
              "        vertical-align: middle;\n",
              "    }\n",
              "\n",
              "    .dataframe tbody tr th {\n",
              "        vertical-align: top;\n",
              "    }\n",
              "\n",
              "    .dataframe thead th {\n",
              "        text-align: right;\n",
              "    }\n",
              "</style>\n",
              "<table border=\"1\" class=\"dataframe\">\n",
              "  <thead>\n",
              "    <tr style=\"text-align: right;\">\n",
              "      <th></th>\n",
              "      <th>X</th>\n",
              "      <th>Y</th>\n",
              "      <th>month</th>\n",
              "      <th>day</th>\n",
              "      <th>FFMC</th>\n",
              "      <th>DMC</th>\n",
              "      <th>DC</th>\n",
              "      <th>ISI</th>\n",
              "      <th>temp</th>\n",
              "      <th>RH</th>\n",
              "      <th>wind</th>\n",
              "      <th>rain</th>\n",
              "      <th>area</th>\n",
              "    </tr>\n",
              "  </thead>\n",
              "  <tbody>\n",
              "    <tr>\n",
              "      <th>0</th>\n",
              "      <td>7</td>\n",
              "      <td>5</td>\n",
              "      <td>mar</td>\n",
              "      <td>fri</td>\n",
              "      <td>86.2</td>\n",
              "      <td>26.2</td>\n",
              "      <td>94.3</td>\n",
              "      <td>5.1</td>\n",
              "      <td>8.2</td>\n",
              "      <td>51</td>\n",
              "      <td>6.7</td>\n",
              "      <td>0.0</td>\n",
              "      <td>0.0</td>\n",
              "    </tr>\n",
              "    <tr>\n",
              "      <th>1</th>\n",
              "      <td>7</td>\n",
              "      <td>4</td>\n",
              "      <td>oct</td>\n",
              "      <td>tue</td>\n",
              "      <td>90.6</td>\n",
              "      <td>35.4</td>\n",
              "      <td>669.1</td>\n",
              "      <td>6.7</td>\n",
              "      <td>18.0</td>\n",
              "      <td>33</td>\n",
              "      <td>0.9</td>\n",
              "      <td>0.0</td>\n",
              "      <td>0.0</td>\n",
              "    </tr>\n",
              "    <tr>\n",
              "      <th>2</th>\n",
              "      <td>7</td>\n",
              "      <td>4</td>\n",
              "      <td>oct</td>\n",
              "      <td>sat</td>\n",
              "      <td>90.6</td>\n",
              "      <td>43.7</td>\n",
              "      <td>686.9</td>\n",
              "      <td>6.7</td>\n",
              "      <td>14.6</td>\n",
              "      <td>33</td>\n",
              "      <td>1.3</td>\n",
              "      <td>0.0</td>\n",
              "      <td>0.0</td>\n",
              "    </tr>\n",
              "    <tr>\n",
              "      <th>3</th>\n",
              "      <td>8</td>\n",
              "      <td>6</td>\n",
              "      <td>mar</td>\n",
              "      <td>fri</td>\n",
              "      <td>91.7</td>\n",
              "      <td>33.3</td>\n",
              "      <td>77.5</td>\n",
              "      <td>9.0</td>\n",
              "      <td>8.3</td>\n",
              "      <td>97</td>\n",
              "      <td>4.0</td>\n",
              "      <td>0.2</td>\n",
              "      <td>0.0</td>\n",
              "    </tr>\n",
              "    <tr>\n",
              "      <th>4</th>\n",
              "      <td>8</td>\n",
              "      <td>6</td>\n",
              "      <td>mar</td>\n",
              "      <td>sun</td>\n",
              "      <td>89.3</td>\n",
              "      <td>51.3</td>\n",
              "      <td>102.2</td>\n",
              "      <td>9.6</td>\n",
              "      <td>11.4</td>\n",
              "      <td>99</td>\n",
              "      <td>1.8</td>\n",
              "      <td>0.0</td>\n",
              "      <td>0.0</td>\n",
              "    </tr>\n",
              "  </tbody>\n",
              "</table>\n",
              "</div>"
            ],
            "text/plain": [
              "   X  Y month  day  FFMC   DMC     DC  ISI  temp  RH  wind  rain  area\n",
              "0  7  5   mar  fri  86.2  26.2   94.3  5.1   8.2  51   6.7   0.0   0.0\n",
              "1  7  4   oct  tue  90.6  35.4  669.1  6.7  18.0  33   0.9   0.0   0.0\n",
              "2  7  4   oct  sat  90.6  43.7  686.9  6.7  14.6  33   1.3   0.0   0.0\n",
              "3  8  6   mar  fri  91.7  33.3   77.5  9.0   8.3  97   4.0   0.2   0.0\n",
              "4  8  6   mar  sun  89.3  51.3  102.2  9.6  11.4  99   1.8   0.0   0.0"
            ]
          },
          "metadata": {
            "tags": []
          },
          "execution_count": 200
        }
      ]
    },
    {
      "cell_type": "code",
      "metadata": {
        "id": "gGiMq2bzBJ8w",
        "colab_type": "code",
        "colab": {
          "base_uri": "https://localhost:8080/",
          "height": 217
        },
        "outputId": "34d92336-1c66-4d58-a4f8-9b73071e3027"
      },
      "source": [
        "one_hot_month = pd.get_dummies(csv.month, prefix='month')\n",
        "one_hot_day = pd.get_dummies(csv.day, prefix='day')\n",
        "\n",
        "df = pd.concat([csv.drop([\"month\",\"day\"],axis=1),one_hot_month,one_hot_day],axis=1)\n",
        "df.head()"
      ],
      "execution_count": 201,
      "outputs": [
        {
          "output_type": "execute_result",
          "data": {
            "text/html": [
              "<div>\n",
              "<style scoped>\n",
              "    .dataframe tbody tr th:only-of-type {\n",
              "        vertical-align: middle;\n",
              "    }\n",
              "\n",
              "    .dataframe tbody tr th {\n",
              "        vertical-align: top;\n",
              "    }\n",
              "\n",
              "    .dataframe thead th {\n",
              "        text-align: right;\n",
              "    }\n",
              "</style>\n",
              "<table border=\"1\" class=\"dataframe\">\n",
              "  <thead>\n",
              "    <tr style=\"text-align: right;\">\n",
              "      <th></th>\n",
              "      <th>X</th>\n",
              "      <th>Y</th>\n",
              "      <th>FFMC</th>\n",
              "      <th>DMC</th>\n",
              "      <th>DC</th>\n",
              "      <th>ISI</th>\n",
              "      <th>temp</th>\n",
              "      <th>RH</th>\n",
              "      <th>wind</th>\n",
              "      <th>rain</th>\n",
              "      <th>area</th>\n",
              "      <th>month_apr</th>\n",
              "      <th>month_aug</th>\n",
              "      <th>month_dec</th>\n",
              "      <th>month_feb</th>\n",
              "      <th>month_jan</th>\n",
              "      <th>month_jul</th>\n",
              "      <th>month_jun</th>\n",
              "      <th>month_mar</th>\n",
              "      <th>month_may</th>\n",
              "      <th>month_nov</th>\n",
              "      <th>month_oct</th>\n",
              "      <th>month_sep</th>\n",
              "      <th>day_fri</th>\n",
              "      <th>day_mon</th>\n",
              "      <th>day_sat</th>\n",
              "      <th>day_sun</th>\n",
              "      <th>day_thu</th>\n",
              "      <th>day_tue</th>\n",
              "      <th>day_wed</th>\n",
              "    </tr>\n",
              "  </thead>\n",
              "  <tbody>\n",
              "    <tr>\n",
              "      <th>0</th>\n",
              "      <td>7</td>\n",
              "      <td>5</td>\n",
              "      <td>86.2</td>\n",
              "      <td>26.2</td>\n",
              "      <td>94.3</td>\n",
              "      <td>5.1</td>\n",
              "      <td>8.2</td>\n",
              "      <td>51</td>\n",
              "      <td>6.7</td>\n",
              "      <td>0.0</td>\n",
              "      <td>0.0</td>\n",
              "      <td>0</td>\n",
              "      <td>0</td>\n",
              "      <td>0</td>\n",
              "      <td>0</td>\n",
              "      <td>0</td>\n",
              "      <td>0</td>\n",
              "      <td>0</td>\n",
              "      <td>1</td>\n",
              "      <td>0</td>\n",
              "      <td>0</td>\n",
              "      <td>0</td>\n",
              "      <td>0</td>\n",
              "      <td>1</td>\n",
              "      <td>0</td>\n",
              "      <td>0</td>\n",
              "      <td>0</td>\n",
              "      <td>0</td>\n",
              "      <td>0</td>\n",
              "      <td>0</td>\n",
              "    </tr>\n",
              "    <tr>\n",
              "      <th>1</th>\n",
              "      <td>7</td>\n",
              "      <td>4</td>\n",
              "      <td>90.6</td>\n",
              "      <td>35.4</td>\n",
              "      <td>669.1</td>\n",
              "      <td>6.7</td>\n",
              "      <td>18.0</td>\n",
              "      <td>33</td>\n",
              "      <td>0.9</td>\n",
              "      <td>0.0</td>\n",
              "      <td>0.0</td>\n",
              "      <td>0</td>\n",
              "      <td>0</td>\n",
              "      <td>0</td>\n",
              "      <td>0</td>\n",
              "      <td>0</td>\n",
              "      <td>0</td>\n",
              "      <td>0</td>\n",
              "      <td>0</td>\n",
              "      <td>0</td>\n",
              "      <td>0</td>\n",
              "      <td>1</td>\n",
              "      <td>0</td>\n",
              "      <td>0</td>\n",
              "      <td>0</td>\n",
              "      <td>0</td>\n",
              "      <td>0</td>\n",
              "      <td>0</td>\n",
              "      <td>1</td>\n",
              "      <td>0</td>\n",
              "    </tr>\n",
              "    <tr>\n",
              "      <th>2</th>\n",
              "      <td>7</td>\n",
              "      <td>4</td>\n",
              "      <td>90.6</td>\n",
              "      <td>43.7</td>\n",
              "      <td>686.9</td>\n",
              "      <td>6.7</td>\n",
              "      <td>14.6</td>\n",
              "      <td>33</td>\n",
              "      <td>1.3</td>\n",
              "      <td>0.0</td>\n",
              "      <td>0.0</td>\n",
              "      <td>0</td>\n",
              "      <td>0</td>\n",
              "      <td>0</td>\n",
              "      <td>0</td>\n",
              "      <td>0</td>\n",
              "      <td>0</td>\n",
              "      <td>0</td>\n",
              "      <td>0</td>\n",
              "      <td>0</td>\n",
              "      <td>0</td>\n",
              "      <td>1</td>\n",
              "      <td>0</td>\n",
              "      <td>0</td>\n",
              "      <td>0</td>\n",
              "      <td>1</td>\n",
              "      <td>0</td>\n",
              "      <td>0</td>\n",
              "      <td>0</td>\n",
              "      <td>0</td>\n",
              "    </tr>\n",
              "    <tr>\n",
              "      <th>3</th>\n",
              "      <td>8</td>\n",
              "      <td>6</td>\n",
              "      <td>91.7</td>\n",
              "      <td>33.3</td>\n",
              "      <td>77.5</td>\n",
              "      <td>9.0</td>\n",
              "      <td>8.3</td>\n",
              "      <td>97</td>\n",
              "      <td>4.0</td>\n",
              "      <td>0.2</td>\n",
              "      <td>0.0</td>\n",
              "      <td>0</td>\n",
              "      <td>0</td>\n",
              "      <td>0</td>\n",
              "      <td>0</td>\n",
              "      <td>0</td>\n",
              "      <td>0</td>\n",
              "      <td>0</td>\n",
              "      <td>1</td>\n",
              "      <td>0</td>\n",
              "      <td>0</td>\n",
              "      <td>0</td>\n",
              "      <td>0</td>\n",
              "      <td>1</td>\n",
              "      <td>0</td>\n",
              "      <td>0</td>\n",
              "      <td>0</td>\n",
              "      <td>0</td>\n",
              "      <td>0</td>\n",
              "      <td>0</td>\n",
              "    </tr>\n",
              "    <tr>\n",
              "      <th>4</th>\n",
              "      <td>8</td>\n",
              "      <td>6</td>\n",
              "      <td>89.3</td>\n",
              "      <td>51.3</td>\n",
              "      <td>102.2</td>\n",
              "      <td>9.6</td>\n",
              "      <td>11.4</td>\n",
              "      <td>99</td>\n",
              "      <td>1.8</td>\n",
              "      <td>0.0</td>\n",
              "      <td>0.0</td>\n",
              "      <td>0</td>\n",
              "      <td>0</td>\n",
              "      <td>0</td>\n",
              "      <td>0</td>\n",
              "      <td>0</td>\n",
              "      <td>0</td>\n",
              "      <td>0</td>\n",
              "      <td>1</td>\n",
              "      <td>0</td>\n",
              "      <td>0</td>\n",
              "      <td>0</td>\n",
              "      <td>0</td>\n",
              "      <td>0</td>\n",
              "      <td>0</td>\n",
              "      <td>0</td>\n",
              "      <td>1</td>\n",
              "      <td>0</td>\n",
              "      <td>0</td>\n",
              "      <td>0</td>\n",
              "    </tr>\n",
              "  </tbody>\n",
              "</table>\n",
              "</div>"
            ],
            "text/plain": [
              "   X  Y  FFMC   DMC     DC  ...  day_sat  day_sun  day_thu  day_tue  day_wed\n",
              "0  7  5  86.2  26.2   94.3  ...        0        0        0        0        0\n",
              "1  7  4  90.6  35.4  669.1  ...        0        0        0        1        0\n",
              "2  7  4  90.6  43.7  686.9  ...        1        0        0        0        0\n",
              "3  8  6  91.7  33.3   77.5  ...        0        0        0        0        0\n",
              "4  8  6  89.3  51.3  102.2  ...        0        1        0        0        0\n",
              "\n",
              "[5 rows x 30 columns]"
            ]
          },
          "metadata": {
            "tags": []
          },
          "execution_count": 201
        }
      ]
    },
    {
      "cell_type": "code",
      "metadata": {
        "id": "uk4qiMuPCeCG",
        "colab_type": "code",
        "colab": {
          "base_uri": "https://localhost:8080/",
          "height": 1000
        },
        "outputId": "14a50ba3-bb83-4de4-9c5a-d0ada334984e"
      },
      "source": [
        "for x in ['X', 'Y', 'FFMC', 'DMC', 'DC', 'ISI', 'temp', 'RH', 'wind', 'rain','area']:  \n",
        "  print(x)\n",
        "  df[x].plot.hist(bins=100, alpha=0.5)\n",
        "  plt.show()"
      ],
      "execution_count": 202,
      "outputs": [
        {
          "output_type": "stream",
          "text": [
            "X\n"
          ],
          "name": "stdout"
        },
        {
          "output_type": "display_data",
          "data": {
            "image/png": "[encoded data removed]",
            "text/plain": [
              "<Figure size 432x288 with 1 Axes>"
            ]
          },
          "metadata": {
            "tags": [],
            "needs_background": "light"
          }
        },
        {
          "output_type": "stream",
          "text": [
            "Y\n"
          ],
          "name": "stdout"
        },
        {
          "output_type": "display_data",
          "data": {
            "image/png": "[encoded data removed]",
            "text/plain": [
              "<Figure size 432x288 with 1 Axes>"
            ]
          },
          "metadata": {
            "tags": [],
            "needs_background": "light"
          }
        },
        {
          "output_type": "stream",
          "text": [
            "FFMC\n"
          ],
          "name": "stdout"
        },
        {
          "output_type": "display_data",
          "data": {
            "image/png": "[encoded data removed]",
            "text/plain": [
              "<Figure size 432x288 with 1 Axes>"
            ]
          },
          "metadata": {
            "tags": [],
            "needs_background": "light"
          }
        },
        {
          "output_type": "stream",
          "text": [
            "DMC\n"
          ],
          "name": "stdout"
        },
        {
          "output_type": "display_data",
          "data": {
            "image/png": "[encoded data removed]",
            "text/plain": [
              "<Figure size 432x288 with 1 Axes>"
            ]
          },
          "metadata": {
            "tags": [],
            "needs_background": "light"
          }
        },
        {
          "output_type": "stream",
          "text": [
            "DC\n"
          ],
          "name": "stdout"
        },
        {
          "output_type": "display_data",
          "data": {
            "image/png": "[encoded data removed]",
            "text/plain": [
              "<Figure size 432x288 with 1 Axes>"
            ]
          },
          "metadata": {
            "tags": [],
            "needs_background": "light"
          }
        },
        {
          "output_type": "stream",
          "text": [
            "ISI\n"
          ],
          "name": "stdout"
        },
        {
          "output_type": "display_data",
          "data": {
            "image/png": "[encoded data removed]",
            "text/plain": [
              "<Figure size 432x288 with 1 Axes>"
            ]
          },
          "metadata": {
            "tags": [],
            "needs_background": "light"
          }
        },
        {
          "output_type": "stream",
          "text": [
            "temp\n"
          ],
          "name": "stdout"
        },
        {
          "output_type": "display_data",
          "data": {
            "image/png": "[encoded data removed]",
            "text/plain": [
              "<Figure size 432x288 with 1 Axes>"
            ]
          },
          "metadata": {
            "tags": [],
            "needs_background": "light"
          }
        },
        {
          "output_type": "stream",
          "text": [
            "RH\n"
          ],
          "name": "stdout"
        },
        {
          "output_type": "display_data",
          "data": {
            "image/png": "[encoded data removed]",
            "text/plain": [
              "<Figure size 432x288 with 1 Axes>"
            ]
          },
          "metadata": {
            "tags": [],
            "needs_background": "light"
          }
        },
        {
          "output_type": "stream",
          "text": [
            "wind\n"
          ],
          "name": "stdout"
        },
        {
          "output_type": "display_data",
          "data": {
            "image/png": "[encoded data removed]",
            "text/plain": [
              "<Figure size 432x288 with 1 Axes>"
            ]
          },
          "metadata": {
            "tags": [],
            "needs_background": "light"
          }
        },
        {
          "output_type": "stream",
          "text": [
            "rain\n"
          ],
          "name": "stdout"
        },
        {
          "output_type": "display_data",
          "data": {
            "image/png": "[encoded data removed]",
            "text/plain": [
              "<Figure size 432x288 with 1 Axes>"
            ]
          },
          "metadata": {
            "tags": [],
            "needs_background": "light"
          }
        },
        {
          "output_type": "stream",
          "text": [
            "area\n"
          ],
          "name": "stdout"
        },
        {
          "output_type": "display_data",
          "data": {
            "image/png": "[encoded data removed]",
            "text/plain": [
              "<Figure size 432x288 with 1 Axes>"
            ]
          },
          "metadata": {
            "tags": [],
            "needs_background": "light"
          }
        }
      ]
    },
    {
      "cell_type": "code",
      "metadata": {
        "id": "nOsZTQrHHjxE",
        "colab_type": "code",
        "colab": {}
      },
      "source": [
        "for col in ['X', 'Y', 'FFMC', 'DMC', 'DC', 'ISI', 'temp', 'RH', 'wind', 'rain','area']:\n",
        "  df[col] = (df[col]/df.describe()[col]['std'])"
      ],
      "execution_count": 203,
      "outputs": []
    },
    {
      "cell_type": "code",
      "metadata": {
        "id": "Nw9Vs9O3IrNl",
        "colab_type": "code",
        "colab": {
          "base_uri": "https://localhost:8080/",
          "height": 307
        },
        "outputId": "b3013048-17a0-40ad-a787-3f4ca640c400"
      },
      "source": [
        "df.describe()"
      ],
      "execution_count": 204,
      "outputs": [
        {
          "output_type": "execute_result",
          "data": {
            "text/html": [
              "<div>\n",
              "<style scoped>\n",
              "    .dataframe tbody tr th:only-of-type {\n",
              "        vertical-align: middle;\n",
              "    }\n",
              "\n",
              "    .dataframe tbody tr th {\n",
              "        vertical-align: top;\n",
              "    }\n",
              "\n",
              "    .dataframe thead th {\n",
              "        text-align: right;\n",
              "    }\n",
              "</style>\n",
              "<table border=\"1\" class=\"dataframe\">\n",
              "  <thead>\n",
              "    <tr style=\"text-align: right;\">\n",
              "      <th></th>\n",
              "      <th>X</th>\n",
              "      <th>Y</th>\n",
              "      <th>FFMC</th>\n",
              "      <th>DMC</th>\n",
              "      <th>DC</th>\n",
              "      <th>ISI</th>\n",
              "      <th>temp</th>\n",
              "      <th>RH</th>\n",
              "      <th>wind</th>\n",
              "      <th>rain</th>\n",
              "      <th>area</th>\n",
              "      <th>month_apr</th>\n",
              "      <th>month_aug</th>\n",
              "      <th>month_dec</th>\n",
              "      <th>month_feb</th>\n",
              "      <th>month_jan</th>\n",
              "      <th>month_jul</th>\n",
              "      <th>month_jun</th>\n",
              "      <th>month_mar</th>\n",
              "      <th>month_may</th>\n",
              "      <th>month_nov</th>\n",
              "      <th>month_oct</th>\n",
              "      <th>month_sep</th>\n",
              "      <th>day_fri</th>\n",
              "      <th>day_mon</th>\n",
              "      <th>day_sat</th>\n",
              "      <th>day_sun</th>\n",
              "      <th>day_thu</th>\n",
              "      <th>day_tue</th>\n",
              "      <th>day_wed</th>\n",
              "    </tr>\n",
              "  </thead>\n",
              "  <tbody>\n",
              "    <tr>\n",
              "      <th>count</th>\n",
              "      <td>517.000000</td>\n",
              "      <td>517.000000</td>\n",
              "      <td>517.000000</td>\n",
              "      <td>517.000000</td>\n",
              "      <td>517.000000</td>\n",
              "      <td>517.000000</td>\n",
              "      <td>517.000000</td>\n",
              "      <td>517.000000</td>\n",
              "      <td>517.000000</td>\n",
              "      <td>517.000000</td>\n",
              "      <td>517.000000</td>\n",
              "      <td>517.000000</td>\n",
              "      <td>517.000000</td>\n",
              "      <td>517.000000</td>\n",
              "      <td>517.000000</td>\n",
              "      <td>517.000000</td>\n",
              "      <td>517.000000</td>\n",
              "      <td>517.000000</td>\n",
              "      <td>517.000000</td>\n",
              "      <td>517.000000</td>\n",
              "      <td>517.000000</td>\n",
              "      <td>517.000000</td>\n",
              "      <td>517.000000</td>\n",
              "      <td>517.000000</td>\n",
              "      <td>517.000000</td>\n",
              "      <td>517.000000</td>\n",
              "      <td>517.000000</td>\n",
              "      <td>517.000000</td>\n",
              "      <td>517.000000</td>\n",
              "      <td>517.000000</td>\n",
              "    </tr>\n",
              "    <tr>\n",
              "      <th>mean</th>\n",
              "      <td>2.018018</td>\n",
              "      <td>3.496061</td>\n",
              "      <td>16.420808</td>\n",
              "      <td>1.731123</td>\n",
              "      <td>2.208846</td>\n",
              "      <td>1.978662</td>\n",
              "      <td>3.253037</td>\n",
              "      <td>2.714159</td>\n",
              "      <td>2.242400</td>\n",
              "      <td>0.073197</td>\n",
              "      <td>0.201824</td>\n",
              "      <td>0.017408</td>\n",
              "      <td>0.355899</td>\n",
              "      <td>0.017408</td>\n",
              "      <td>0.038685</td>\n",
              "      <td>0.003868</td>\n",
              "      <td>0.061896</td>\n",
              "      <td>0.032882</td>\n",
              "      <td>0.104449</td>\n",
              "      <td>0.003868</td>\n",
              "      <td>0.001934</td>\n",
              "      <td>0.029014</td>\n",
              "      <td>0.332689</td>\n",
              "      <td>0.164410</td>\n",
              "      <td>0.143133</td>\n",
              "      <td>0.162476</td>\n",
              "      <td>0.183752</td>\n",
              "      <td>0.117988</td>\n",
              "      <td>0.123791</td>\n",
              "      <td>0.104449</td>\n",
              "    </tr>\n",
              "    <tr>\n",
              "      <th>std</th>\n",
              "      <td>1.000000</td>\n",
              "      <td>1.000000</td>\n",
              "      <td>1.000000</td>\n",
              "      <td>1.000000</td>\n",
              "      <td>1.000000</td>\n",
              "      <td>1.000000</td>\n",
              "      <td>1.000000</td>\n",
              "      <td>1.000000</td>\n",
              "      <td>1.000000</td>\n",
              "      <td>1.000000</td>\n",
              "      <td>1.000000</td>\n",
              "      <td>0.130913</td>\n",
              "      <td>0.479249</td>\n",
              "      <td>0.130913</td>\n",
              "      <td>0.193029</td>\n",
              "      <td>0.062137</td>\n",
              "      <td>0.241199</td>\n",
              "      <td>0.178500</td>\n",
              "      <td>0.306138</td>\n",
              "      <td>0.062137</td>\n",
              "      <td>0.043980</td>\n",
              "      <td>0.168007</td>\n",
              "      <td>0.471632</td>\n",
              "      <td>0.371006</td>\n",
              "      <td>0.350548</td>\n",
              "      <td>0.369244</td>\n",
              "      <td>0.387657</td>\n",
              "      <td>0.322907</td>\n",
              "      <td>0.329662</td>\n",
              "      <td>0.306138</td>\n",
              "    </tr>\n",
              "    <tr>\n",
              "      <th>min</th>\n",
              "      <td>0.432194</td>\n",
              "      <td>1.626148</td>\n",
              "      <td>3.387613</td>\n",
              "      <td>0.017175</td>\n",
              "      <td>0.031846</td>\n",
              "      <td>0.000000</td>\n",
              "      <td>0.378878</td>\n",
              "      <td>0.919260</td>\n",
              "      <td>0.223258</td>\n",
              "      <td>0.000000</td>\n",
              "      <td>0.000000</td>\n",
              "      <td>0.000000</td>\n",
              "      <td>0.000000</td>\n",
              "      <td>0.000000</td>\n",
              "      <td>0.000000</td>\n",
              "      <td>0.000000</td>\n",
              "      <td>0.000000</td>\n",
              "      <td>0.000000</td>\n",
              "      <td>0.000000</td>\n",
              "      <td>0.000000</td>\n",
              "      <td>0.000000</td>\n",
              "      <td>0.000000</td>\n",
              "      <td>0.000000</td>\n",
              "      <td>0.000000</td>\n",
              "      <td>0.000000</td>\n",
              "      <td>0.000000</td>\n",
              "      <td>0.000000</td>\n",
              "      <td>0.000000</td>\n",
              "      <td>0.000000</td>\n",
              "      <td>0.000000</td>\n",
              "    </tr>\n",
              "    <tr>\n",
              "      <th>25%</th>\n",
              "      <td>1.296581</td>\n",
              "      <td>3.252296</td>\n",
              "      <td>16.340252</td>\n",
              "      <td>1.071097</td>\n",
              "      <td>1.764448</td>\n",
              "      <td>1.425602</td>\n",
              "      <td>2.669365</td>\n",
              "      <td>2.022372</td>\n",
              "      <td>1.506989</td>\n",
              "      <td>0.000000</td>\n",
              "      <td>0.000000</td>\n",
              "      <td>0.000000</td>\n",
              "      <td>0.000000</td>\n",
              "      <td>0.000000</td>\n",
              "      <td>0.000000</td>\n",
              "      <td>0.000000</td>\n",
              "      <td>0.000000</td>\n",
              "      <td>0.000000</td>\n",
              "      <td>0.000000</td>\n",
              "      <td>0.000000</td>\n",
              "      <td>0.000000</td>\n",
              "      <td>0.000000</td>\n",
              "      <td>0.000000</td>\n",
              "      <td>0.000000</td>\n",
              "      <td>0.000000</td>\n",
              "      <td>0.000000</td>\n",
              "      <td>0.000000</td>\n",
              "      <td>0.000000</td>\n",
              "      <td>0.000000</td>\n",
              "      <td>0.000000</td>\n",
              "    </tr>\n",
              "    <tr>\n",
              "      <th>50%</th>\n",
              "      <td>1.728774</td>\n",
              "      <td>3.252296</td>\n",
              "      <td>16.593870</td>\n",
              "      <td>1.690959</td>\n",
              "      <td>2.677511</td>\n",
              "      <td>1.842316</td>\n",
              "      <td>3.323789</td>\n",
              "      <td>2.573929</td>\n",
              "      <td>2.232576</td>\n",
              "      <td>0.000000</td>\n",
              "      <td>0.008169</td>\n",
              "      <td>0.000000</td>\n",
              "      <td>0.000000</td>\n",
              "      <td>0.000000</td>\n",
              "      <td>0.000000</td>\n",
              "      <td>0.000000</td>\n",
              "      <td>0.000000</td>\n",
              "      <td>0.000000</td>\n",
              "      <td>0.000000</td>\n",
              "      <td>0.000000</td>\n",
              "      <td>0.000000</td>\n",
              "      <td>0.000000</td>\n",
              "      <td>0.000000</td>\n",
              "      <td>0.000000</td>\n",
              "      <td>0.000000</td>\n",
              "      <td>0.000000</td>\n",
              "      <td>0.000000</td>\n",
              "      <td>0.000000</td>\n",
              "      <td>0.000000</td>\n",
              "      <td>0.000000</td>\n",
              "    </tr>\n",
              "    <tr>\n",
              "      <th>75%</th>\n",
              "      <td>3.025355</td>\n",
              "      <td>4.065370</td>\n",
              "      <td>16.829372</td>\n",
              "      <td>2.223385</td>\n",
              "      <td>2.877861</td>\n",
              "      <td>2.368693</td>\n",
              "      <td>3.926549</td>\n",
              "      <td>3.248053</td>\n",
              "      <td>2.734905</td>\n",
              "      <td>0.000000</td>\n",
              "      <td>0.103211</td>\n",
              "      <td>0.000000</td>\n",
              "      <td>1.000000</td>\n",
              "      <td>0.000000</td>\n",
              "      <td>0.000000</td>\n",
              "      <td>0.000000</td>\n",
              "      <td>0.000000</td>\n",
              "      <td>0.000000</td>\n",
              "      <td>0.000000</td>\n",
              "      <td>0.000000</td>\n",
              "      <td>0.000000</td>\n",
              "      <td>0.000000</td>\n",
              "      <td>1.000000</td>\n",
              "      <td>0.000000</td>\n",
              "      <td>0.000000</td>\n",
              "      <td>0.000000</td>\n",
              "      <td>0.000000</td>\n",
              "      <td>0.000000</td>\n",
              "      <td>0.000000</td>\n",
              "      <td>0.000000</td>\n",
              "    </tr>\n",
              "    <tr>\n",
              "      <th>max</th>\n",
              "      <td>3.889743</td>\n",
              "      <td>7.317666</td>\n",
              "      <td>17.427186</td>\n",
              "      <td>4.548259</td>\n",
              "      <td>3.469235</td>\n",
              "      <td>12.304042</td>\n",
              "      <td>5.734828</td>\n",
              "      <td>6.128401</td>\n",
              "      <td>5.246553</td>\n",
              "      <td>21.624608</td>\n",
              "      <td>17.136532</td>\n",
              "      <td>1.000000</td>\n",
              "      <td>1.000000</td>\n",
              "      <td>1.000000</td>\n",
              "      <td>1.000000</td>\n",
              "      <td>1.000000</td>\n",
              "      <td>1.000000</td>\n",
              "      <td>1.000000</td>\n",
              "      <td>1.000000</td>\n",
              "      <td>1.000000</td>\n",
              "      <td>1.000000</td>\n",
              "      <td>1.000000</td>\n",
              "      <td>1.000000</td>\n",
              "      <td>1.000000</td>\n",
              "      <td>1.000000</td>\n",
              "      <td>1.000000</td>\n",
              "      <td>1.000000</td>\n",
              "      <td>1.000000</td>\n",
              "      <td>1.000000</td>\n",
              "      <td>1.000000</td>\n",
              "    </tr>\n",
              "  </tbody>\n",
              "</table>\n",
              "</div>"
            ],
            "text/plain": [
              "                X           Y        FFMC  ...     day_thu     day_tue     day_wed\n",
              "count  517.000000  517.000000  517.000000  ...  517.000000  517.000000  517.000000\n",
              "mean     2.018018    3.496061   16.420808  ...    0.117988    0.123791    0.104449\n",
              "std      1.000000    1.000000    1.000000  ...    0.322907    0.329662    0.306138\n",
              "min      0.432194    1.626148    3.387613  ...    0.000000    0.000000    0.000000\n",
              "25%      1.296581    3.252296   16.340252  ...    0.000000    0.000000    0.000000\n",
              "50%      1.728774    3.252296   16.593870  ...    0.000000    0.000000    0.000000\n",
              "75%      3.025355    4.065370   16.829372  ...    0.000000    0.000000    0.000000\n",
              "max      3.889743    7.317666   17.427186  ...    1.000000    1.000000    1.000000\n",
              "\n",
              "[8 rows x 30 columns]"
            ]
          },
          "metadata": {
            "tags": []
          },
          "execution_count": 204
        }
      ]
    },
    {
      "cell_type": "code",
      "metadata": {
        "id": "yp1q-2ejJOBr",
        "colab_type": "code",
        "colab": {
          "base_uri": "https://localhost:8080/",
          "height": 34
        },
        "outputId": "0cb88748-9d28-4ca3-89a0-6b6e6e942a80"
      },
      "source": [
        "X = df.drop(['area'],axis=1)\n",
        "y = df.area\n",
        "\n",
        "X_train, X_test, y_train, y_test = train_test_split(X, y, test_size=0.33, random_state=42)\n",
        "len(X_train),len(X_test)"
      ],
      "execution_count": 205,
      "outputs": [
        {
          "output_type": "execute_result",
          "data": {
            "text/plain": [
              "(346, 171)"
            ]
          },
          "metadata": {
            "tags": []
          },
          "execution_count": 205
        }
      ]
    },
    {
      "cell_type": "code",
      "metadata": {
        "id": "JMxW8vsIKh9Y",
        "colab_type": "code",
        "colab": {}
      },
      "source": [
        "def make_model(input_len,output_len,model_summary=True):\n",
        "  model = tf.keras.models.Sequential()\n",
        "  model.add(tf.keras.layers.Dense(input_len,activation=None,input_shape=[input_len]))\n",
        "  model.add(tf.keras.layers.Dense(20*input_len,activation=None))\n",
        "  model.add(tf.keras.layers.Dense(int(15*input_len),activation=None))\n",
        "  model.add(tf.keras.layers.Dropout(0.3))\n",
        "  model.add(tf.keras.layers.Dense(int(15*input_len),activation=None))\n",
        "  model.add(tf.keras.layers.Dropout(0.3))\n",
        "  model.add(tf.keras.layers.Dense(int(15*input_len),activation=None))\n",
        "  model.add(tf.keras.layers.Dense(output_len,activation=None))\n",
        "\n",
        "  optimizer = tf.keras.optimizers.RMSprop(0.001)\n",
        "\n",
        "  model.compile(loss='mse',\n",
        "                optimizer=optimizer,\n",
        "                metrics=['accuracy'])\n",
        "\n",
        "  if model_summary:\n",
        "    model.summary()\n",
        "\n",
        "  return model"
      ],
      "execution_count": 215,
      "outputs": []
    },
    {
      "cell_type": "code",
      "metadata": {
        "id": "Fm3RfYkUcGZ5",
        "colab_type": "code",
        "colab": {}
      },
      "source": [
        "in_size = len(X_train.columns)"
      ],
      "execution_count": 207,
      "outputs": []
    },
    {
      "cell_type": "code",
      "metadata": {
        "id": "Ptas8ThUMMfM",
        "colab_type": "code",
        "colab": {
          "base_uri": "https://localhost:8080/",
          "height": 443
        },
        "outputId": "e604bbcd-cf52-4df3-9a25-f81fe1ac40f7"
      },
      "source": [
        "model = make_model(in_size,1,model_summary=True)"
      ],
      "execution_count": 216,
      "outputs": [
        {
          "output_type": "stream",
          "text": [
            "Model: \"sequential_18\"\n",
            "_________________________________________________________________\n",
            "Layer (type)                 Output Shape              Param #   \n",
            "=================================================================\n",
            "dense_64 (Dense)             (None, 29)                870       \n",
            "_________________________________________________________________\n",
            "dense_65 (Dense)             (None, 580)               17400     \n",
            "_________________________________________________________________\n",
            "dense_66 (Dense)             (None, 435)               252735    \n",
            "_________________________________________________________________\n",
            "dropout (Dropout)            (None, 435)               0         \n",
            "_________________________________________________________________\n",
            "dense_67 (Dense)             (None, 435)               189660    \n",
            "_________________________________________________________________\n",
            "dropout_1 (Dropout)          (None, 435)               0         \n",
            "_________________________________________________________________\n",
            "dense_68 (Dense)             (None, 435)               189660    \n",
            "_________________________________________________________________\n",
            "dense_69 (Dense)             (None, 1)                 436       \n",
            "=================================================================\n",
            "Total params: 650,761\n",
            "Trainable params: 650,761\n",
            "Non-trainable params: 0\n",
            "_________________________________________________________________\n"
          ],
          "name": "stdout"
        }
      ]
    },
    {
      "cell_type": "code",
      "metadata": {
        "id": "XZxc7qpBMiGg",
        "colab_type": "code",
        "colab": {}
      },
      "source": [
        "X_train = np.array(X_train)\n",
        "y_train = np.array(y_train)\n",
        "\n",
        "X_test = np.array(X_test)\n",
        "y_test = np.array(y_test)\n"
      ],
      "execution_count": 217,
      "outputs": []
    },
    {
      "cell_type": "code",
      "metadata": {
        "id": "IKIAldRkPJjl",
        "colab_type": "code",
        "colab": {
          "base_uri": "https://localhost:8080/",
          "height": 1000
        },
        "outputId": "f812fd6e-b2c0-4131-8a8f-c6eee282b7d1"
      },
      "source": [
        "model.fit(x=X_train,y=y_train,epochs=100,validation_data=(X_test,y_test))"
      ],
      "execution_count": 218,
      "outputs": [
        {
          "output_type": "stream",
          "text": [
            "Epoch 1/100\n",
            "11/11 [==============================] - 0s 30ms/step - loss: 1053.7924 - accuracy: 0.1647 - val_loss: 2.0548 - val_accuracy: 0.4503\n",
            "Epoch 2/100\n",
            "11/11 [==============================] - 0s 17ms/step - loss: 1.9792 - accuracy: 0.3006 - val_loss: 2.0843 - val_accuracy: 0.5029\n",
            "Epoch 3/100\n",
            "11/11 [==============================] - 0s 21ms/step - loss: 1.4969 - accuracy: 0.3064 - val_loss: 1.9992 - val_accuracy: 0.5029\n",
            "Epoch 4/100\n",
            "11/11 [==============================] - 0s 22ms/step - loss: 1.6618 - accuracy: 0.3295 - val_loss: 2.5067 - val_accuracy: 0.0000e+00\n",
            "Epoch 5/100\n",
            "11/11 [==============================] - 0s 16ms/step - loss: 6.6234 - accuracy: 0.2919 - val_loss: 1.9895 - val_accuracy: 0.5029\n",
            "Epoch 6/100\n",
            "11/11 [==============================] - 0s 17ms/step - loss: 0.8209 - accuracy: 0.3526 - val_loss: 1.9876 - val_accuracy: 0.5029\n",
            "Epoch 7/100\n",
            "11/11 [==============================] - 0s 18ms/step - loss: 1.7048 - accuracy: 0.2861 - val_loss: 1.9547 - val_accuracy: 0.4561\n",
            "Epoch 8/100\n",
            "11/11 [==============================] - 0s 19ms/step - loss: 1.3424 - accuracy: 0.3266 - val_loss: 3.2672 - val_accuracy: 0.5029\n",
            "Epoch 9/100\n",
            "11/11 [==============================] - 0s 19ms/step - loss: 0.7182 - accuracy: 0.3671 - val_loss: 2.0959 - val_accuracy: 0.5029\n",
            "Epoch 10/100\n",
            "11/11 [==============================] - 0s 19ms/step - loss: 51.4167 - accuracy: 0.3526 - val_loss: 85.2164 - val_accuracy: 0.5029\n",
            "Epoch 11/100\n",
            "11/11 [==============================] - 0s 19ms/step - loss: 23.6218 - accuracy: 0.4162 - val_loss: 1.9419 - val_accuracy: 0.5029\n",
            "Epoch 12/100\n",
            "11/11 [==============================] - 0s 18ms/step - loss: 0.5893 - accuracy: 0.4364 - val_loss: 2.0698 - val_accuracy: 0.1345\n",
            "Epoch 13/100\n",
            "11/11 [==============================] - 0s 18ms/step - loss: 0.6665 - accuracy: 0.3757 - val_loss: 1.9099 - val_accuracy: 0.4971\n",
            "Epoch 14/100\n",
            "11/11 [==============================] - 0s 18ms/step - loss: 0.7171 - accuracy: 0.3815 - val_loss: 1.9335 - val_accuracy: 0.5029\n",
            "Epoch 15/100\n",
            "11/11 [==============================] - 0s 22ms/step - loss: 0.6153 - accuracy: 0.4538 - val_loss: 4.4555 - val_accuracy: 0.0000e+00\n",
            "Epoch 16/100\n",
            "11/11 [==============================] - 0s 18ms/step - loss: 6.7360 - accuracy: 0.2312 - val_loss: 2.0014 - val_accuracy: 0.2982\n",
            "Epoch 17/100\n",
            "11/11 [==============================] - 0s 16ms/step - loss: 0.5886 - accuracy: 0.4046 - val_loss: 1.9269 - val_accuracy: 0.4912\n",
            "Epoch 18/100\n",
            "11/11 [==============================] - 0s 18ms/step - loss: 0.6051 - accuracy: 0.4046 - val_loss: 1.9564 - val_accuracy: 0.5029\n",
            "Epoch 19/100\n",
            "11/11 [==============================] - 0s 18ms/step - loss: 23.2909 - accuracy: 0.2775 - val_loss: 2.5337 - val_accuracy: 0.5029\n",
            "Epoch 20/100\n",
            "11/11 [==============================] - 0s 18ms/step - loss: 0.6731 - accuracy: 0.4277 - val_loss: 1.9249 - val_accuracy: 0.5029\n",
            "Epoch 21/100\n",
            "11/11 [==============================] - 0s 17ms/step - loss: 0.5801 - accuracy: 0.4335 - val_loss: 1.9248 - val_accuracy: 0.5029\n",
            "Epoch 22/100\n",
            "11/11 [==============================] - 0s 17ms/step - loss: 0.6406 - accuracy: 0.3960 - val_loss: 2.1194 - val_accuracy: 0.5029\n",
            "Epoch 23/100\n",
            "11/11 [==============================] - 0s 16ms/step - loss: 0.6361 - accuracy: 0.4104 - val_loss: 1.9955 - val_accuracy: 0.5029\n",
            "Epoch 24/100\n",
            "11/11 [==============================] - 0s 18ms/step - loss: 0.5691 - accuracy: 0.4509 - val_loss: 1.9264 - val_accuracy: 0.5029\n",
            "Epoch 25/100\n",
            "11/11 [==============================] - 0s 19ms/step - loss: 0.7524 - accuracy: 0.3728 - val_loss: 1.9611 - val_accuracy: 0.5029\n",
            "Epoch 26/100\n",
            "11/11 [==============================] - 0s 17ms/step - loss: 4.9343 - accuracy: 0.3699 - val_loss: 41.0094 - val_accuracy: 0.0000e+00\n",
            "Epoch 27/100\n",
            "11/11 [==============================] - 0s 17ms/step - loss: 4.0990 - accuracy: 0.4104 - val_loss: 1.9758 - val_accuracy: 0.5029\n",
            "Epoch 28/100\n",
            "11/11 [==============================] - 0s 18ms/step - loss: 0.6070 - accuracy: 0.3786 - val_loss: 1.9053 - val_accuracy: 0.4912\n",
            "Epoch 29/100\n",
            "11/11 [==============================] - 0s 21ms/step - loss: 0.7275 - accuracy: 0.4335 - val_loss: 1.9632 - val_accuracy: 0.5029\n",
            "Epoch 30/100\n",
            "11/11 [==============================] - 0s 19ms/step - loss: 0.5823 - accuracy: 0.4538 - val_loss: 2.1547 - val_accuracy: 0.5029\n",
            "Epoch 31/100\n",
            "11/11 [==============================] - 0s 19ms/step - loss: 0.6514 - accuracy: 0.4191 - val_loss: 1.9584 - val_accuracy: 0.4035\n",
            "Epoch 32/100\n",
            "11/11 [==============================] - 0s 18ms/step - loss: 0.7499 - accuracy: 0.3931 - val_loss: 31.7349 - val_accuracy: 0.5029\n",
            "Epoch 33/100\n",
            "11/11 [==============================] - 0s 19ms/step - loss: 5.2236 - accuracy: 0.3699 - val_loss: 1.9919 - val_accuracy: 0.5029\n",
            "Epoch 34/100\n",
            "11/11 [==============================] - 0s 17ms/step - loss: 0.6224 - accuracy: 0.4046 - val_loss: 2.1524 - val_accuracy: 0.5029\n",
            "Epoch 35/100\n",
            "11/11 [==============================] - 0s 19ms/step - loss: 0.5689 - accuracy: 0.4335 - val_loss: 1.9765 - val_accuracy: 0.5029\n",
            "Epoch 36/100\n",
            "11/11 [==============================] - 0s 18ms/step - loss: 0.6070 - accuracy: 0.4335 - val_loss: 1.9030 - val_accuracy: 0.4912\n",
            "Epoch 37/100\n",
            "11/11 [==============================] - 0s 19ms/step - loss: 0.5783 - accuracy: 0.4249 - val_loss: 1.9553 - val_accuracy: 0.5029\n",
            "Epoch 38/100\n",
            "11/11 [==============================] - 0s 21ms/step - loss: 2.1863 - accuracy: 0.3295 - val_loss: 2.1479 - val_accuracy: 0.5029\n",
            "Epoch 39/100\n",
            "11/11 [==============================] - 0s 20ms/step - loss: 0.6656 - accuracy: 0.3902 - val_loss: 1.9297 - val_accuracy: 0.5029\n",
            "Epoch 40/100\n",
            "11/11 [==============================] - 0s 19ms/step - loss: 0.6297 - accuracy: 0.4306 - val_loss: 1.9273 - val_accuracy: 0.5029\n",
            "Epoch 41/100\n",
            "11/11 [==============================] - 0s 19ms/step - loss: 0.5763 - accuracy: 0.4364 - val_loss: 1.9486 - val_accuracy: 0.5029\n",
            "Epoch 42/100\n",
            "11/11 [==============================] - 0s 21ms/step - loss: 0.5881 - accuracy: 0.4451 - val_loss: 1.9220 - val_accuracy: 0.4678\n",
            "Epoch 43/100\n",
            "11/11 [==============================] - 0s 23ms/step - loss: 5.6776 - accuracy: 0.3584 - val_loss: 8.7636 - val_accuracy: 0.0000e+00\n",
            "Epoch 44/100\n",
            "11/11 [==============================] - 0s 21ms/step - loss: 1.3073 - accuracy: 0.4075 - val_loss: 1.9348 - val_accuracy: 0.4971\n",
            "Epoch 45/100\n",
            "11/11 [==============================] - 0s 18ms/step - loss: 0.5587 - accuracy: 0.4393 - val_loss: 1.9363 - val_accuracy: 0.5029\n",
            "Epoch 46/100\n",
            "11/11 [==============================] - 0s 29ms/step - loss: 0.5703 - accuracy: 0.4335 - val_loss: 2.0162 - val_accuracy: 0.5029\n",
            "Epoch 47/100\n",
            "11/11 [==============================] - 0s 34ms/step - loss: 0.5496 - accuracy: 0.4422 - val_loss: 1.9491 - val_accuracy: 0.5029\n",
            "Epoch 48/100\n",
            "11/11 [==============================] - 0s 42ms/step - loss: 0.6257 - accuracy: 0.4364 - val_loss: 1.9421 - val_accuracy: 0.5029\n",
            "Epoch 49/100\n",
            "11/11 [==============================] - 1s 47ms/step - loss: 0.6400 - accuracy: 0.4451 - val_loss: 1.9514 - val_accuracy: 0.5029\n",
            "Epoch 50/100\n",
            "11/11 [==============================] - 1s 63ms/step - loss: 1.0929 - accuracy: 0.3295 - val_loss: 1.9515 - val_accuracy: 0.4971\n",
            "Epoch 51/100\n",
            "11/11 [==============================] - 0s 34ms/step - loss: 0.6062 - accuracy: 0.4220 - val_loss: 1.9311 - val_accuracy: 0.5029\n",
            "Epoch 52/100\n",
            "11/11 [==============================] - 0s 32ms/step - loss: 0.5641 - accuracy: 0.4451 - val_loss: 1.9878 - val_accuracy: 0.5029\n",
            "Epoch 53/100\n",
            "11/11 [==============================] - 0s 26ms/step - loss: 0.8429 - accuracy: 0.4162 - val_loss: 2.2282 - val_accuracy: 0.1579\n",
            "Epoch 54/100\n",
            "11/11 [==============================] - 0s 29ms/step - loss: 0.6934 - accuracy: 0.3815 - val_loss: 1.9344 - val_accuracy: 0.5029\n",
            "Epoch 55/100\n",
            "11/11 [==============================] - 0s 38ms/step - loss: 0.5670 - accuracy: 0.4422 - val_loss: 1.9308 - val_accuracy: 0.5029\n",
            "Epoch 56/100\n",
            "11/11 [==============================] - 0s 43ms/step - loss: 0.6568 - accuracy: 0.4509 - val_loss: 2.0946 - val_accuracy: 0.5029\n",
            "Epoch 57/100\n",
            "11/11 [==============================] - 0s 43ms/step - loss: 0.6155 - accuracy: 0.4364 - val_loss: 2.1529 - val_accuracy: 0.1228\n",
            "Epoch 58/100\n",
            "11/11 [==============================] - 0s 33ms/step - loss: 0.8204 - accuracy: 0.3468 - val_loss: 1.9301 - val_accuracy: 0.5029\n",
            "Epoch 59/100\n",
            "11/11 [==============================] - 0s 34ms/step - loss: 0.5740 - accuracy: 0.4451 - val_loss: 1.9938 - val_accuracy: 0.3099\n",
            "Epoch 60/100\n",
            "11/11 [==============================] - 0s 24ms/step - loss: 0.5449 - accuracy: 0.4538 - val_loss: 2.0898 - val_accuracy: 0.2690\n",
            "Epoch 61/100\n",
            "11/11 [==============================] - 0s 18ms/step - loss: 0.7687 - accuracy: 0.3613 - val_loss: 2.0532 - val_accuracy: 0.5029\n",
            "Epoch 62/100\n",
            "11/11 [==============================] - 0s 20ms/step - loss: 0.5660 - accuracy: 0.4538 - val_loss: 1.9249 - val_accuracy: 0.5029\n",
            "Epoch 63/100\n",
            "11/11 [==============================] - 0s 19ms/step - loss: 0.5843 - accuracy: 0.4393 - val_loss: 1.9508 - val_accuracy: 0.5029\n",
            "Epoch 64/100\n",
            "11/11 [==============================] - 0s 19ms/step - loss: 0.6230 - accuracy: 0.4277 - val_loss: 1.9218 - val_accuracy: 0.5029\n",
            "Epoch 65/100\n",
            "11/11 [==============================] - 0s 18ms/step - loss: 0.5893 - accuracy: 0.4422 - val_loss: 1.9329 - val_accuracy: 0.5029\n",
            "Epoch 66/100\n",
            "11/11 [==============================] - 0s 19ms/step - loss: 0.5515 - accuracy: 0.4653 - val_loss: 1.9516 - val_accuracy: 0.5029\n",
            "Epoch 67/100\n",
            "11/11 [==============================] - 0s 21ms/step - loss: 0.5811 - accuracy: 0.4538 - val_loss: 1.9134 - val_accuracy: 0.5029\n",
            "Epoch 68/100\n",
            "11/11 [==============================] - 0s 23ms/step - loss: 0.7574 - accuracy: 0.3815 - val_loss: 1.9272 - val_accuracy: 0.4620\n",
            "Epoch 69/100\n",
            "11/11 [==============================] - 0s 18ms/step - loss: 0.5500 - accuracy: 0.4480 - val_loss: 1.9185 - val_accuracy: 0.5029\n",
            "Epoch 70/100\n",
            "11/11 [==============================] - 0s 19ms/step - loss: 0.5564 - accuracy: 0.4393 - val_loss: 1.9405 - val_accuracy: 0.5029\n",
            "Epoch 71/100\n",
            "11/11 [==============================] - 0s 18ms/step - loss: 0.5497 - accuracy: 0.4509 - val_loss: 1.9262 - val_accuracy: 0.4912\n",
            "Epoch 72/100\n",
            "11/11 [==============================] - 0s 21ms/step - loss: 0.5641 - accuracy: 0.4538 - val_loss: 1.9351 - val_accuracy: 0.4971\n",
            "Epoch 73/100\n",
            "11/11 [==============================] - 0s 18ms/step - loss: 0.6507 - accuracy: 0.3844 - val_loss: 1.9185 - val_accuracy: 0.5029\n",
            "Epoch 74/100\n",
            "11/11 [==============================] - 0s 18ms/step - loss: 0.5589 - accuracy: 0.4451 - val_loss: 1.9352 - val_accuracy: 0.5029\n",
            "Epoch 75/100\n",
            "11/11 [==============================] - 0s 20ms/step - loss: 0.5483 - accuracy: 0.4595 - val_loss: 1.9579 - val_accuracy: 0.5029\n",
            "Epoch 76/100\n",
            "11/11 [==============================] - 0s 22ms/step - loss: 0.6076 - accuracy: 0.4017 - val_loss: 1.9453 - val_accuracy: 0.5029\n",
            "Epoch 77/100\n",
            "11/11 [==============================] - 0s 22ms/step - loss: 0.5450 - accuracy: 0.4624 - val_loss: 1.9868 - val_accuracy: 0.5029\n",
            "Epoch 78/100\n",
            "11/11 [==============================] - 0s 17ms/step - loss: 0.5439 - accuracy: 0.4538 - val_loss: 1.9118 - val_accuracy: 0.5029\n",
            "Epoch 79/100\n",
            "11/11 [==============================] - 0s 17ms/step - loss: 0.5580 - accuracy: 0.4509 - val_loss: 1.9383 - val_accuracy: 0.5029\n",
            "Epoch 80/100\n",
            "11/11 [==============================] - 0s 18ms/step - loss: 0.5599 - accuracy: 0.4624 - val_loss: 1.9174 - val_accuracy: 0.5029\n",
            "Epoch 81/100\n",
            "11/11 [==============================] - 0s 19ms/step - loss: 0.5647 - accuracy: 0.4595 - val_loss: 1.9221 - val_accuracy: 0.4971\n",
            "Epoch 82/100\n",
            "11/11 [==============================] - 0s 18ms/step - loss: 0.5473 - accuracy: 0.4653 - val_loss: 1.9114 - val_accuracy: 0.5029\n",
            "Epoch 83/100\n",
            "11/11 [==============================] - 0s 18ms/step - loss: 0.5606 - accuracy: 0.4335 - val_loss: 1.9162 - val_accuracy: 0.5029\n",
            "Epoch 84/100\n",
            "11/11 [==============================] - 0s 19ms/step - loss: 0.5455 - accuracy: 0.4653 - val_loss: 1.9519 - val_accuracy: 0.5029\n",
            "Epoch 85/100\n",
            "11/11 [==============================] - 0s 21ms/step - loss: 0.5537 - accuracy: 0.4653 - val_loss: 1.9174 - val_accuracy: 0.5029\n",
            "Epoch 86/100\n",
            "11/11 [==============================] - 0s 17ms/step - loss: 0.5590 - accuracy: 0.4595 - val_loss: 1.9204 - val_accuracy: 0.5029\n",
            "Epoch 87/100\n",
            "11/11 [==============================] - 0s 17ms/step - loss: 0.5587 - accuracy: 0.4538 - val_loss: 1.9706 - val_accuracy: 0.4035\n",
            "Epoch 88/100\n",
            "11/11 [==============================] - 0s 19ms/step - loss: 0.5455 - accuracy: 0.4595 - val_loss: 1.9257 - val_accuracy: 0.5029\n",
            "Epoch 89/100\n",
            "11/11 [==============================] - 0s 19ms/step - loss: 0.5676 - accuracy: 0.4422 - val_loss: 1.9659 - val_accuracy: 0.5029\n",
            "Epoch 90/100\n",
            "11/11 [==============================] - 0s 21ms/step - loss: 0.5460 - accuracy: 0.4653 - val_loss: 1.9440 - val_accuracy: 0.5029\n",
            "Epoch 91/100\n",
            "11/11 [==============================] - 0s 19ms/step - loss: 0.5432 - accuracy: 0.4624 - val_loss: 2.0081 - val_accuracy: 0.5029\n",
            "Epoch 92/100\n",
            "11/11 [==============================] - 0s 18ms/step - loss: 0.5483 - accuracy: 0.4653 - val_loss: 1.9321 - val_accuracy: 0.5029\n",
            "Epoch 93/100\n",
            "11/11 [==============================] - 0s 23ms/step - loss: 0.5940 - accuracy: 0.4393 - val_loss: 1.9852 - val_accuracy: 0.5029\n",
            "Epoch 94/100\n",
            "11/11 [==============================] - 0s 19ms/step - loss: 0.5486 - accuracy: 0.4653 - val_loss: 1.9197 - val_accuracy: 0.5029\n",
            "Epoch 95/100\n",
            "11/11 [==============================] - 0s 19ms/step - loss: 0.5364 - accuracy: 0.4595 - val_loss: 1.9355 - val_accuracy: 0.5029\n",
            "Epoch 96/100\n",
            "11/11 [==============================] - 0s 17ms/step - loss: 0.5374 - accuracy: 0.4595 - val_loss: 2.0494 - val_accuracy: 0.5029\n",
            "Epoch 97/100\n",
            "11/11 [==============================] - 0s 20ms/step - loss: 0.5474 - accuracy: 0.4624 - val_loss: 1.9330 - val_accuracy: 0.5029\n",
            "Epoch 98/100\n",
            "11/11 [==============================] - 0s 20ms/step - loss: 0.5438 - accuracy: 0.4335 - val_loss: 1.9298 - val_accuracy: 0.5029\n",
            "Epoch 99/100\n",
            "11/11 [==============================] - 0s 17ms/step - loss: 0.5360 - accuracy: 0.4509 - val_loss: 1.9335 - val_accuracy: 0.5029\n",
            "Epoch 100/100\n",
            "11/11 [==============================] - 0s 17ms/step - loss: 0.5352 - accuracy: 0.4595 - val_loss: 1.9510 - val_accuracy: 0.5029\n"
          ],
          "name": "stdout"
        },
        {
          "output_type": "execute_result",
          "data": {
            "text/plain": [
              "<tensorflow.python.keras.callbacks.History at 0x7f9525fc7ba8>"
            ]
          },
          "metadata": {
            "tags": []
          },
          "execution_count": 218
        }
      ]
    },
    {
      "cell_type": "code",
      "metadata": {
        "id": "4FRvcXOOQLdk",
        "colab_type": "code",
        "colab": {}
      },
      "source": [
        ""
      ],
      "execution_count": 210,
      "outputs": []
    }
  ]
}